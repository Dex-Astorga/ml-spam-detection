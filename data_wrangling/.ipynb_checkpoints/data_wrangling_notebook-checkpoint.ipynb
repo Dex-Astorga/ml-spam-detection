{
 "cells": [
  {
   "cell_type": "markdown",
   "id": "bc86b89e",
   "metadata": {},
   "source": [
    "<center><h1 style=\"font-family:Georgia; background-color:#135375; color: whitesmoke; padding: 20px;\">Data Wrangling</h1></center>"
   ]
  },
  {
   "cell_type": "markdown",
   "id": "f1e49f18",
   "metadata": {},
   "source": [
    "<h5 style=\"font-family:Georgia; background-color:#ea9f79; color: #135375; padding: 10px;\">We will be working with 3 different datasets so introduce diversity and overcome data imbalance. This means we need to clean each one of them.</h5>"
   ]
  },
  {
   "cell_type": "code",
   "execution_count": 1,
   "id": "f59f7812",
   "metadata": {},
   "outputs": [],
   "source": [
    "# IMPORT LIBRARIES\n",
    "import numpy as np\n",
    "import pandas as pd\n",
    "import matplotlib.pyplot as plt\n",
    "import seaborn as sns"
   ]
  },
  {
   "cell_type": "markdown",
   "id": "5c1acd89",
   "metadata": {},
   "source": [
    "<h3 style=\"font-family:Georgia; font-size: 16px; background-color:#135375; color: whitesmoke; padding: 10px;\">Clean First Dataset</h3>"
   ]
  },
  {
   "cell_type": "code",
   "execution_count": 2,
   "id": "bcd7edd7",
   "metadata": {},
   "outputs": [
    {
     "data": {
      "text/html": [
       "<div>\n",
       "<style scoped>\n",
       "    .dataframe tbody tr th:only-of-type {\n",
       "        vertical-align: middle;\n",
       "    }\n",
       "\n",
       "    .dataframe tbody tr th {\n",
       "        vertical-align: top;\n",
       "    }\n",
       "\n",
       "    .dataframe thead th {\n",
       "        text-align: right;\n",
       "    }\n",
       "</style>\n",
       "<table border=\"1\" class=\"dataframe\">\n",
       "  <thead>\n",
       "    <tr style=\"text-align: right;\">\n",
       "      <th></th>\n",
       "      <th>v1</th>\n",
       "      <th>v2</th>\n",
       "      <th>Unnamed: 2</th>\n",
       "      <th>Unnamed: 3</th>\n",
       "      <th>Unnamed: 4</th>\n",
       "    </tr>\n",
       "  </thead>\n",
       "  <tbody>\n",
       "    <tr>\n",
       "      <th>0</th>\n",
       "      <td>ham</td>\n",
       "      <td>Go until jurong point, crazy.. Available only ...</td>\n",
       "      <td>NaN</td>\n",
       "      <td>NaN</td>\n",
       "      <td>NaN</td>\n",
       "    </tr>\n",
       "    <tr>\n",
       "      <th>1</th>\n",
       "      <td>ham</td>\n",
       "      <td>Ok lar... Joking wif u oni...</td>\n",
       "      <td>NaN</td>\n",
       "      <td>NaN</td>\n",
       "      <td>NaN</td>\n",
       "    </tr>\n",
       "    <tr>\n",
       "      <th>2</th>\n",
       "      <td>spam</td>\n",
       "      <td>Free entry in 2 a wkly comp to win FA Cup fina...</td>\n",
       "      <td>NaN</td>\n",
       "      <td>NaN</td>\n",
       "      <td>NaN</td>\n",
       "    </tr>\n",
       "    <tr>\n",
       "      <th>3</th>\n",
       "      <td>ham</td>\n",
       "      <td>U dun say so early hor... U c already then say...</td>\n",
       "      <td>NaN</td>\n",
       "      <td>NaN</td>\n",
       "      <td>NaN</td>\n",
       "    </tr>\n",
       "    <tr>\n",
       "      <th>4</th>\n",
       "      <td>ham</td>\n",
       "      <td>Nah I don't think he goes to usf, he lives aro...</td>\n",
       "      <td>NaN</td>\n",
       "      <td>NaN</td>\n",
       "      <td>NaN</td>\n",
       "    </tr>\n",
       "    <tr>\n",
       "      <th>5</th>\n",
       "      <td>spam</td>\n",
       "      <td>FreeMsg Hey there darling it's been 3 week's n...</td>\n",
       "      <td>NaN</td>\n",
       "      <td>NaN</td>\n",
       "      <td>NaN</td>\n",
       "    </tr>\n",
       "    <tr>\n",
       "      <th>6</th>\n",
       "      <td>ham</td>\n",
       "      <td>Even my brother is not like to speak with me. ...</td>\n",
       "      <td>NaN</td>\n",
       "      <td>NaN</td>\n",
       "      <td>NaN</td>\n",
       "    </tr>\n",
       "    <tr>\n",
       "      <th>7</th>\n",
       "      <td>ham</td>\n",
       "      <td>As per your request 'Melle Melle (Oru Minnamin...</td>\n",
       "      <td>NaN</td>\n",
       "      <td>NaN</td>\n",
       "      <td>NaN</td>\n",
       "    </tr>\n",
       "    <tr>\n",
       "      <th>8</th>\n",
       "      <td>spam</td>\n",
       "      <td>WINNER!! As a valued network customer you have...</td>\n",
       "      <td>NaN</td>\n",
       "      <td>NaN</td>\n",
       "      <td>NaN</td>\n",
       "    </tr>\n",
       "    <tr>\n",
       "      <th>9</th>\n",
       "      <td>spam</td>\n",
       "      <td>Had your mobile 11 months or more? U R entitle...</td>\n",
       "      <td>NaN</td>\n",
       "      <td>NaN</td>\n",
       "      <td>NaN</td>\n",
       "    </tr>\n",
       "  </tbody>\n",
       "</table>\n",
       "</div>"
      ],
      "text/plain": [
       "     v1                                                 v2 Unnamed: 2  \\\n",
       "0   ham  Go until jurong point, crazy.. Available only ...        NaN   \n",
       "1   ham                      Ok lar... Joking wif u oni...        NaN   \n",
       "2  spam  Free entry in 2 a wkly comp to win FA Cup fina...        NaN   \n",
       "3   ham  U dun say so early hor... U c already then say...        NaN   \n",
       "4   ham  Nah I don't think he goes to usf, he lives aro...        NaN   \n",
       "5  spam  FreeMsg Hey there darling it's been 3 week's n...        NaN   \n",
       "6   ham  Even my brother is not like to speak with me. ...        NaN   \n",
       "7   ham  As per your request 'Melle Melle (Oru Minnamin...        NaN   \n",
       "8  spam  WINNER!! As a valued network customer you have...        NaN   \n",
       "9  spam  Had your mobile 11 months or more? U R entitle...        NaN   \n",
       "\n",
       "  Unnamed: 3 Unnamed: 4  \n",
       "0        NaN        NaN  \n",
       "1        NaN        NaN  \n",
       "2        NaN        NaN  \n",
       "3        NaN        NaN  \n",
       "4        NaN        NaN  \n",
       "5        NaN        NaN  \n",
       "6        NaN        NaN  \n",
       "7        NaN        NaN  \n",
       "8        NaN        NaN  \n",
       "9        NaN        NaN  "
      ]
     },
     "execution_count": 2,
     "metadata": {},
     "output_type": "execute_result"
    }
   ],
   "source": [
    "df1 = pd.read_csv('../original_datasets/dataset1.csv', encoding='latin1')\n",
    "df1.head(10)"
   ]
  },
  {
   "cell_type": "code",
   "execution_count": 3,
   "id": "f13837ba",
   "metadata": {},
   "outputs": [
    {
     "data": {
      "text/plain": [
       "Index(['v1', 'v2'], dtype='object')"
      ]
     },
     "execution_count": 3,
     "metadata": {},
     "output_type": "execute_result"
    }
   ],
   "source": [
    "# DROP ALL COLUMNS EXCEPT v1 and v2\n",
    "df1.drop(columns=['Unnamed: 2', 'Unnamed: 3', 'Unnamed: 4'], axis=1, inplace=True)\n",
    "df1.columns"
   ]
  },
  {
   "cell_type": "code",
   "execution_count": 4,
   "id": "2e84d00b",
   "metadata": {},
   "outputs": [
    {
     "name": "stdout",
     "output_type": "stream",
     "text": [
      "(5572, 2)\n",
      "Index(['v1', 'v2'], dtype='object')\n"
     ]
    }
   ],
   "source": [
    "# INSPECT DATASET 1\n",
    "print(df1.shape)\n",
    "print(df1.columns)"
   ]
  },
  {
   "cell_type": "code",
   "execution_count": 5,
   "id": "742cad7a",
   "metadata": {},
   "outputs": [
    {
     "name": "stdout",
     "output_type": "stream",
     "text": [
      "missing values:  0\n",
      "duplicated values:  403\n"
     ]
    }
   ],
   "source": [
    "# CHECK FOR NULL AND DUPLICATED VALUES\n",
    "print('missing values: ', df1.isnull().sum().sum())\n",
    "print('duplicated values: ',df1.duplicated().sum().sum())"
   ]
  },
  {
   "cell_type": "code",
   "execution_count": 6,
   "id": "a26aaafd",
   "metadata": {},
   "outputs": [],
   "source": [
    "# REMOVE DUPLICATES, KEEP THE FIRST DATA\n",
    "df1.drop_duplicates(inplace=True, keep='first')"
   ]
  },
  {
   "cell_type": "code",
   "execution_count": 7,
   "id": "8f6aef76",
   "metadata": {},
   "outputs": [
    {
     "data": {
      "text/plain": [
       "(5169, 2)"
      ]
     },
     "execution_count": 7,
     "metadata": {},
     "output_type": "execute_result"
    }
   ],
   "source": [
    "# CHECK SHAPE AGAIN\n",
    "df1.shape"
   ]
  },
  {
   "cell_type": "code",
   "execution_count": 8,
   "id": "8968f194",
   "metadata": {},
   "outputs": [
    {
     "data": {
      "text/html": [
       "<div>\n",
       "<style scoped>\n",
       "    .dataframe tbody tr th:only-of-type {\n",
       "        vertical-align: middle;\n",
       "    }\n",
       "\n",
       "    .dataframe tbody tr th {\n",
       "        vertical-align: top;\n",
       "    }\n",
       "\n",
       "    .dataframe thead th {\n",
       "        text-align: right;\n",
       "    }\n",
       "</style>\n",
       "<table border=\"1\" class=\"dataframe\">\n",
       "  <thead>\n",
       "    <tr style=\"text-align: right;\">\n",
       "      <th></th>\n",
       "      <th>tag</th>\n",
       "      <th>message</th>\n",
       "    </tr>\n",
       "  </thead>\n",
       "  <tbody>\n",
       "    <tr>\n",
       "      <th>0</th>\n",
       "      <td>ham</td>\n",
       "      <td>Go until jurong point, crazy.. Available only ...</td>\n",
       "    </tr>\n",
       "    <tr>\n",
       "      <th>1</th>\n",
       "      <td>ham</td>\n",
       "      <td>Ok lar... Joking wif u oni...</td>\n",
       "    </tr>\n",
       "    <tr>\n",
       "      <th>2</th>\n",
       "      <td>spam</td>\n",
       "      <td>Free entry in 2 a wkly comp to win FA Cup fina...</td>\n",
       "    </tr>\n",
       "    <tr>\n",
       "      <th>3</th>\n",
       "      <td>ham</td>\n",
       "      <td>U dun say so early hor... U c already then say...</td>\n",
       "    </tr>\n",
       "    <tr>\n",
       "      <th>4</th>\n",
       "      <td>ham</td>\n",
       "      <td>Nah I don't think he goes to usf, he lives aro...</td>\n",
       "    </tr>\n",
       "  </tbody>\n",
       "</table>\n",
       "</div>"
      ],
      "text/plain": [
       "    tag                                            message\n",
       "0   ham  Go until jurong point, crazy.. Available only ...\n",
       "1   ham                      Ok lar... Joking wif u oni...\n",
       "2  spam  Free entry in 2 a wkly comp to win FA Cup fina...\n",
       "3   ham  U dun say so early hor... U c already then say...\n",
       "4   ham  Nah I don't think he goes to usf, he lives aro..."
      ]
     },
     "execution_count": 8,
     "metadata": {},
     "output_type": "execute_result"
    }
   ],
   "source": [
    "# RENAME THE COLUMNS WITH APPROPRIATE NAMES\n",
    "df1.rename(columns = {'v1' : 'tag',\n",
    "                     'v2' : 'message'}, inplace=True)\n",
    "df1.head()"
   ]
  },
  {
   "cell_type": "markdown",
   "id": "d6f3365e",
   "metadata": {},
   "source": [
    "We are done cleaning dataset1.csv"
   ]
  },
  {
   "cell_type": "markdown",
   "id": "8c159d53",
   "metadata": {},
   "source": [
    "<h3 style=\"font-family:Georgia; font-size: 16px; background-color:#135375; color: whitesmoke; padding: 10px;\">Clean Second Dataset</h3>"
   ]
  },
  {
   "cell_type": "code",
   "execution_count": 9,
   "id": "ae65cf06",
   "metadata": {},
   "outputs": [
    {
     "data": {
      "text/html": [
       "<div>\n",
       "<style scoped>\n",
       "    .dataframe tbody tr th:only-of-type {\n",
       "        vertical-align: middle;\n",
       "    }\n",
       "\n",
       "    .dataframe tbody tr th {\n",
       "        vertical-align: top;\n",
       "    }\n",
       "\n",
       "    .dataframe thead th {\n",
       "        text-align: right;\n",
       "    }\n",
       "</style>\n",
       "<table border=\"1\" class=\"dataframe\">\n",
       "  <thead>\n",
       "    <tr style=\"text-align: right;\">\n",
       "      <th></th>\n",
       "      <th>Unnamed: 0</th>\n",
       "      <th>target</th>\n",
       "      <th>_id</th>\n",
       "      <th>address</th>\n",
       "      <th>date</th>\n",
       "      <th>text</th>\n",
       "      <th>threadId</th>\n",
       "    </tr>\n",
       "  </thead>\n",
       "  <tbody>\n",
       "    <tr>\n",
       "      <th>0</th>\n",
       "      <td>0</td>\n",
       "      <td>spam</td>\n",
       "      <td>8787</td>\n",
       "      <td>+6396****2373</td>\n",
       "      <td>02:10.1</td>\n",
       "      <td>Welcome ! your have P1222 for S!ot , \\nWeb: 11...</td>\n",
       "      <td>836</td>\n",
       "    </tr>\n",
       "    <tr>\n",
       "      <th>1</th>\n",
       "      <td>1</td>\n",
       "      <td>spam</td>\n",
       "      <td>8788</td>\n",
       "      <td>+6398****8852</td>\n",
       "      <td>33:48.9</td>\n",
       "      <td>My god, at least 999P rewards waiting for you\\...</td>\n",
       "      <td>837</td>\n",
       "    </tr>\n",
       "    <tr>\n",
       "      <th>2</th>\n",
       "      <td>2</td>\n",
       "      <td>spam</td>\n",
       "      <td>8789</td>\n",
       "      <td>+6394****0113</td>\n",
       "      <td>03:15.0</td>\n",
       "      <td>DEAR VIP &lt;REAL NAME&gt;, No. 1 Online Sabong Site...</td>\n",
       "      <td>838</td>\n",
       "    </tr>\n",
       "    <tr>\n",
       "      <th>3</th>\n",
       "      <td>3</td>\n",
       "      <td>spam</td>\n",
       "      <td>8790</td>\n",
       "      <td>+6395****4934</td>\n",
       "      <td>07:18.7</td>\n",
       "      <td>&lt;REAL NAME&gt;! Today, you can win the iphone14PR...</td>\n",
       "      <td>839</td>\n",
       "    </tr>\n",
       "    <tr>\n",
       "      <th>4</th>\n",
       "      <td>4</td>\n",
       "      <td>spam</td>\n",
       "      <td>8791</td>\n",
       "      <td>+6396****4401</td>\n",
       "      <td>28:56.6</td>\n",
       "      <td>Welcome ! your have P1222 for S!ot , \\nWeb: gr...</td>\n",
       "      <td>841</td>\n",
       "    </tr>\n",
       "    <tr>\n",
       "      <th>5</th>\n",
       "      <td>5</td>\n",
       "      <td>spam</td>\n",
       "      <td>8792</td>\n",
       "      <td>+6396****7168</td>\n",
       "      <td>13:44.7</td>\n",
       "      <td>Welcome ! your have P1222 for S!ot , \\nWeb: wi...</td>\n",
       "      <td>842</td>\n",
       "    </tr>\n",
       "    <tr>\n",
       "      <th>6</th>\n",
       "      <td>6</td>\n",
       "      <td>spam</td>\n",
       "      <td>8793</td>\n",
       "      <td>+6390****3826</td>\n",
       "      <td>29:52.3</td>\n",
       "      <td>Hottest News! Join JB Day, Make it your day! S...</td>\n",
       "      <td>844</td>\n",
       "    </tr>\n",
       "    <tr>\n",
       "      <th>7</th>\n",
       "      <td>7</td>\n",
       "      <td>spam</td>\n",
       "      <td>8794</td>\n",
       "      <td>+6398****8042</td>\n",
       "      <td>26:17.8</td>\n",
       "      <td>Sugal hindi na need pumunta CAS1NO, pIay onlin...</td>\n",
       "      <td>845</td>\n",
       "    </tr>\n",
       "    <tr>\n",
       "      <th>8</th>\n",
       "      <td>8</td>\n",
       "      <td>spam</td>\n",
       "      <td>8577</td>\n",
       "      <td>+6398****5939</td>\n",
       "      <td>10:16.4</td>\n",
       "      <td>Wag na masyadong mapakapagod dahil friday na! ...</td>\n",
       "      <td>846</td>\n",
       "    </tr>\n",
       "    <tr>\n",
       "      <th>9</th>\n",
       "      <td>9</td>\n",
       "      <td>spam</td>\n",
       "      <td>8795</td>\n",
       "      <td>+6390****9355</td>\n",
       "      <td>39:10.1</td>\n",
       "      <td>Happy Weekend! Magrelax at Mag-Enjoy kasama an...</td>\n",
       "      <td>847</td>\n",
       "    </tr>\n",
       "  </tbody>\n",
       "</table>\n",
       "</div>"
      ],
      "text/plain": [
       "   Unnamed: 0 target   _id        address     date  \\\n",
       "0           0   spam  8787  +6396****2373  02:10.1   \n",
       "1           1   spam  8788  +6398****8852  33:48.9   \n",
       "2           2   spam  8789  +6394****0113  03:15.0   \n",
       "3           3   spam  8790  +6395****4934  07:18.7   \n",
       "4           4   spam  8791  +6396****4401  28:56.6   \n",
       "5           5   spam  8792  +6396****7168  13:44.7   \n",
       "6           6   spam  8793  +6390****3826  29:52.3   \n",
       "7           7   spam  8794  +6398****8042  26:17.8   \n",
       "8           8   spam  8577  +6398****5939  10:16.4   \n",
       "9           9   spam  8795  +6390****9355  39:10.1   \n",
       "\n",
       "                                                text  threadId  \n",
       "0  Welcome ! your have P1222 for S!ot , \\nWeb: 11...       836  \n",
       "1  My god, at least 999P rewards waiting for you\\...       837  \n",
       "2  DEAR VIP <REAL NAME>, No. 1 Online Sabong Site...       838  \n",
       "3  <REAL NAME>! Today, you can win the iphone14PR...       839  \n",
       "4  Welcome ! your have P1222 for S!ot , \\nWeb: gr...       841  \n",
       "5  Welcome ! your have P1222 for S!ot , \\nWeb: wi...       842  \n",
       "6  Hottest News! Join JB Day, Make it your day! S...       844  \n",
       "7  Sugal hindi na need pumunta CAS1NO, pIay onlin...       845  \n",
       "8  Wag na masyadong mapakapagod dahil friday na! ...       846  \n",
       "9  Happy Weekend! Magrelax at Mag-Enjoy kasama an...       847  "
      ]
     },
     "execution_count": 9,
     "metadata": {},
     "output_type": "execute_result"
    }
   ],
   "source": [
    "df2 = pd.read_csv('../original_datasets/dataset2.csv', encoding='latin1')\n",
    "df2.head(10)"
   ]
  },
  {
   "cell_type": "code",
   "execution_count": 10,
   "id": "a2636a40",
   "metadata": {},
   "outputs": [
    {
     "data": {
      "text/plain": [
       "Index(['target', 'text'], dtype='object')"
      ]
     },
     "execution_count": 10,
     "metadata": {},
     "output_type": "execute_result"
    }
   ],
   "source": [
    "df2 = df2.drop(columns=['Unnamed: 0', '_id', 'address', 'date', 'threadId'], index=1)\n",
    "df2.columns"
   ]
  },
  {
   "cell_type": "code",
   "execution_count": 11,
   "id": "c881e3fb",
   "metadata": {},
   "outputs": [
    {
     "name": "stdout",
     "output_type": "stream",
     "text": [
      "(79, 2)\n",
      "Index(['target', 'text'], dtype='object')\n"
     ]
    }
   ],
   "source": [
    "# INSPECT DATASET 2\n",
    "print(df2.shape)\n",
    "print(df2.columns)"
   ]
  },
  {
   "cell_type": "code",
   "execution_count": 12,
   "id": "dda4dd90",
   "metadata": {},
   "outputs": [
    {
     "name": "stdout",
     "output_type": "stream",
     "text": [
      "missing values:  0\n",
      "duplicated values:  0\n"
     ]
    }
   ],
   "source": [
    "# CHECK FOR NULL AND DUPLICATED VALUES\n",
    "print('missing values: ', df2.isnull().sum().sum())\n",
    "print('duplicated values: ',df2.duplicated().sum().sum())"
   ]
  },
  {
   "cell_type": "code",
   "execution_count": 13,
   "id": "d79b427d",
   "metadata": {},
   "outputs": [
    {
     "data": {
      "text/html": [
       "<div>\n",
       "<style scoped>\n",
       "    .dataframe tbody tr th:only-of-type {\n",
       "        vertical-align: middle;\n",
       "    }\n",
       "\n",
       "    .dataframe tbody tr th {\n",
       "        vertical-align: top;\n",
       "    }\n",
       "\n",
       "    .dataframe thead th {\n",
       "        text-align: right;\n",
       "    }\n",
       "</style>\n",
       "<table border=\"1\" class=\"dataframe\">\n",
       "  <thead>\n",
       "    <tr style=\"text-align: right;\">\n",
       "      <th></th>\n",
       "      <th>tag</th>\n",
       "      <th>message</th>\n",
       "    </tr>\n",
       "  </thead>\n",
       "  <tbody>\n",
       "    <tr>\n",
       "      <th>0</th>\n",
       "      <td>spam</td>\n",
       "      <td>Welcome ! your have P1222 for S!ot , \\nWeb: 11...</td>\n",
       "    </tr>\n",
       "    <tr>\n",
       "      <th>2</th>\n",
       "      <td>spam</td>\n",
       "      <td>DEAR VIP &lt;REAL NAME&gt;, No. 1 Online Sabong Site...</td>\n",
       "    </tr>\n",
       "    <tr>\n",
       "      <th>3</th>\n",
       "      <td>spam</td>\n",
       "      <td>&lt;REAL NAME&gt;! Today, you can win the iphone14PR...</td>\n",
       "    </tr>\n",
       "    <tr>\n",
       "      <th>4</th>\n",
       "      <td>spam</td>\n",
       "      <td>Welcome ! your have P1222 for S!ot , \\nWeb: gr...</td>\n",
       "    </tr>\n",
       "    <tr>\n",
       "      <th>5</th>\n",
       "      <td>spam</td>\n",
       "      <td>Welcome ! your have P1222 for S!ot , \\nWeb: wi...</td>\n",
       "    </tr>\n",
       "  </tbody>\n",
       "</table>\n",
       "</div>"
      ],
      "text/plain": [
       "    tag                                            message\n",
       "0  spam  Welcome ! your have P1222 for S!ot , \\nWeb: 11...\n",
       "2  spam  DEAR VIP <REAL NAME>, No. 1 Online Sabong Site...\n",
       "3  spam  <REAL NAME>! Today, you can win the iphone14PR...\n",
       "4  spam  Welcome ! your have P1222 for S!ot , \\nWeb: gr...\n",
       "5  spam  Welcome ! your have P1222 for S!ot , \\nWeb: wi..."
      ]
     },
     "execution_count": 13,
     "metadata": {},
     "output_type": "execute_result"
    }
   ],
   "source": [
    "# RENAME THE COLUMNS WITH APPROPRIATE NAMES\n",
    "df2.rename(columns = {'target' : 'tag',\n",
    "                     'text' : 'message'}, inplace=True)\n",
    "df2.head()"
   ]
  },
  {
   "cell_type": "markdown",
   "id": "102c99f5",
   "metadata": {},
   "source": [
    "<h3 style=\"font-family:Georgia; font-size: 16px; background-color:#135375; color: whitesmoke; padding: 10px;\">Clean Third Dataset</h3>"
   ]
  },
  {
   "cell_type": "code",
   "execution_count": 52,
   "id": "fa1a0d7d",
   "metadata": {},
   "outputs": [
    {
     "data": {
      "text/html": [
       "<div>\n",
       "<style scoped>\n",
       "    .dataframe tbody tr th:only-of-type {\n",
       "        vertical-align: middle;\n",
       "    }\n",
       "\n",
       "    .dataframe tbody tr th {\n",
       "        vertical-align: top;\n",
       "    }\n",
       "\n",
       "    .dataframe thead th {\n",
       "        text-align: right;\n",
       "    }\n",
       "</style>\n",
       "<table border=\"1\" class=\"dataframe\">\n",
       "  <thead>\n",
       "    <tr style=\"text-align: right;\">\n",
       "      <th></th>\n",
       "      <th>spam</th>\n",
       "      <th>Makakatanggap ka ng 5000 cash! Pumunta lang sa website na ito bit.ly/sapo2022 at e click ang google ads na inyong makikita sa kahit anong page ng site.</th>\n",
       "    </tr>\n",
       "  </thead>\n",
       "  <tbody>\n",
       "    <tr>\n",
       "      <th>0</th>\n",
       "      <td>spam</td>\n",
       "      <td>Gumagamit ka ba ng Facebook, Tiktok or Messeng...</td>\n",
       "    </tr>\n",
       "    <tr>\n",
       "      <th>1</th>\n",
       "      <td>spam</td>\n",
       "      <td>Salamat sa pag suporta sa casino, gusto  mo ba...</td>\n",
       "    </tr>\n",
       "    <tr>\n",
       "      <th>2</th>\n",
       "      <td>spam</td>\n",
       "      <td>Mag laro at kumita habang nasa bahay Lang! Win...</td>\n",
       "    </tr>\n",
       "    <tr>\n",
       "      <th>3</th>\n",
       "      <td>spam</td>\n",
       "      <td>Binabati kita! Bagong kaganapan, mag-log in up...</td>\n",
       "    </tr>\n",
       "    <tr>\n",
       "      <th>4</th>\n",
       "      <td>spam</td>\n",
       "      <td>I was calling you but the line was busy. Im a ...</td>\n",
       "    </tr>\n",
       "    <tr>\n",
       "      <th>5</th>\n",
       "      <td>spam</td>\n",
       "      <td>Send your own SMS with SMSCaster ! Hi,I have a...</td>\n",
       "    </tr>\n",
       "    <tr>\n",
       "      <th>6</th>\n",
       "      <td>spam</td>\n",
       "      <td>Hi gamezone players, welcome sa laro na kagigi...</td>\n",
       "    </tr>\n",
       "    <tr>\n",
       "      <th>7</th>\n",
       "      <td>spam</td>\n",
       "      <td>INFORMATION! Your Sim#.won worth of' [PHP500,0...</td>\n",
       "    </tr>\n",
       "    <tr>\n",
       "      <th>8</th>\n",
       "      <td>spam</td>\n",
       "      <td>Free 128P MG account opening, https://bit.ly/3...</td>\n",
       "    </tr>\n",
       "    <tr>\n",
       "      <th>9</th>\n",
       "      <td>spam</td>\n",
       "      <td>It is good that I found your mobile number.Thi...</td>\n",
       "    </tr>\n",
       "  </tbody>\n",
       "</table>\n",
       "</div>"
      ],
      "text/plain": [
       "   spam  \\\n",
       "0  spam   \n",
       "1  spam   \n",
       "2  spam   \n",
       "3  spam   \n",
       "4  spam   \n",
       "5  spam   \n",
       "6  spam   \n",
       "7  spam   \n",
       "8  spam   \n",
       "9  spam   \n",
       "\n",
       "  Makakatanggap ka ng 5000 cash! Pumunta lang sa website na ito bit.ly/sapo2022 at e click ang google ads na inyong makikita sa kahit anong page ng site.  \n",
       "0  Gumagamit ka ba ng Facebook, Tiktok or Messeng...                                                                                                       \n",
       "1  Salamat sa pag suporta sa casino, gusto  mo ba...                                                                                                       \n",
       "2  Mag laro at kumita habang nasa bahay Lang! Win...                                                                                                       \n",
       "3  Binabati kita! Bagong kaganapan, mag-log in up...                                                                                                       \n",
       "4  I was calling you but the line was busy. Im a ...                                                                                                       \n",
       "5  Send your own SMS with SMSCaster ! Hi,I have a...                                                                                                       \n",
       "6  Hi gamezone players, welcome sa laro na kagigi...                                                                                                       \n",
       "7  INFORMATION! Your Sim#.won worth of' [PHP500,0...                                                                                                       \n",
       "8  Free 128P MG account opening, https://bit.ly/3...                                                                                                       \n",
       "9  It is good that I found your mobile number.Thi...                                                                                                       "
      ]
     },
     "execution_count": 52,
     "metadata": {},
     "output_type": "execute_result"
    }
   ],
   "source": [
    "df3 = pd.read_csv('../original_datasets/dataset3.csv', encoding='utf-8')\n",
    "df3.head(10)"
   ]
  },
  {
   "cell_type": "markdown",
   "id": "d95cad91",
   "metadata": {},
   "source": [
    "since the column names are also data points, we do not want to just rename them but we want to store them to our dataset before removing them"
   ]
  },
  {
   "cell_type": "code",
   "execution_count": 53,
   "id": "57c66b6a",
   "metadata": {},
   "outputs": [
    {
     "data": {
      "text/plain": [
       "Index(['spam', 'Makakatanggap ka ng 5000 cash! Pumunta lang sa website na ito bit.ly/sapo2022 at e click ang google ads na inyong makikita sa kahit anong page ng site.'], dtype='object')"
      ]
     },
     "execution_count": 53,
     "metadata": {},
     "output_type": "execute_result"
    }
   ],
   "source": [
    "#GET THE NAME OF THE COLUMNS\n",
    "df3.columns"
   ]
  },
  {
   "cell_type": "code",
   "execution_count": 54,
   "id": "8b5ce92c",
   "metadata": {},
   "outputs": [],
   "source": [
    "#STORE THE DATA INTO A DICTIONARY\n",
    "new_row = {'spam': 'spam',\n",
    "          'Makakatanggap ka ng 5000 cash! Pumunta lang sa website na ito bit.ly/sapo2022 at e click ang google ads na inyong makikita sa kahit anong page ng site.' : 'Makakatanggap ka ng 5000 cash! Pumunta lang sa website na ito bit.ly/sapo2022 at e click ang google ads na inyong makikita sa kahit anong page ng site.'}\n",
    "\n",
    "# add the new row using loc method\n",
    "df3.loc[len(df3)] = new_row"
   ]
  },
  {
   "cell_type": "code",
   "execution_count": 56,
   "id": "4754e53b",
   "metadata": {},
   "outputs": [
    {
     "data": {
      "text/plain": [
       "Index(['tag', 'message'], dtype='object')"
      ]
     },
     "execution_count": 56,
     "metadata": {},
     "output_type": "execute_result"
    }
   ],
   "source": [
    "#RENAME THE COLUMN NAMES\n",
    "df3 = df3.rename(columns={'spam' : 'tag',\n",
    "                         'Makakatanggap ka ng 5000 cash! Pumunta lang sa website na ito bit.ly/sapo2022 at e click ang google ads na inyong makikita sa kahit anong page ng site.' : 'message'})\n",
    "df3.columns"
   ]
  },
  {
   "cell_type": "code",
   "execution_count": 57,
   "id": "46a0731a",
   "metadata": {},
   "outputs": [
    {
     "name": "stdout",
     "output_type": "stream",
     "text": [
      "(1008, 2)\n",
      "Index(['tag', 'message'], dtype='object')\n"
     ]
    }
   ],
   "source": [
    "# INSPECT DATASET 3\n",
    "print(df3.shape)\n",
    "print(df3.columns)"
   ]
  },
  {
   "cell_type": "code",
   "execution_count": 58,
   "id": "e8bdf811",
   "metadata": {},
   "outputs": [
    {
     "name": "stdout",
     "output_type": "stream",
     "text": [
      "missing values:  424\n",
      "duplicated values:  446\n"
     ]
    }
   ],
   "source": [
    "# CHECK FOR NULL AND DUPLICATED VALUES\n",
    "print('missing values: ', df3.isnull().sum().sum())\n",
    "print('duplicated values: ',df3.duplicated().sum().sum())"
   ]
  },
  {
   "cell_type": "code",
   "execution_count": 59,
   "id": "23f2f1ce",
   "metadata": {
    "scrolled": true
   },
   "outputs": [
    {
     "name": "stdout",
     "output_type": "stream",
     "text": [
      "missing:\n",
      "tag        0\n",
      "message    0\n",
      "dtype: int64\n",
      "\n",
      "duplicated:\n",
      "0\n"
     ]
    }
   ],
   "source": [
    "#REMOVE MISSING VALUES\n",
    "df3 = df3.dropna()\n",
    "print('missing:')\n",
    "print(df3.isnull().sum())\n",
    "print()\n",
    "\n",
    "#REMOVE DUPLICATES\n",
    "df3.drop_duplicates(keep='first', inplace=True)\n",
    "print('duplicated:')\n",
    "print(df3.duplicated().sum()) "
   ]
  },
  {
   "cell_type": "code",
   "execution_count": 60,
   "id": "2d3543d4",
   "metadata": {
    "scrolled": true
   },
   "outputs": [
    {
     "name": "stdout",
     "output_type": "stream",
     "text": [
      "(560, 2)\n",
      "Index(['tag', 'message'], dtype='object')\n"
     ]
    }
   ],
   "source": [
    "#REINDEX THE DATA FRAME\n",
    "df3 = df3.reset_index(drop=True)\n",
    "\n",
    "# INSPECT DATASET 3\n",
    "print(df3.shape)\n",
    "print(df3.columns)"
   ]
  },
  {
   "cell_type": "markdown",
   "id": "da5491a8",
   "metadata": {},
   "source": [
    "#### It is important to note that this third dataset contains filipino words so we want to translate it to english first."
   ]
  },
  {
   "cell_type": "code",
   "execution_count": 62,
   "id": "c439b45b",
   "metadata": {},
   "outputs": [
    {
     "name": "stdout",
     "output_type": "stream",
     "text": [
      "Requirement already satisfied: deep-translator in c:\\users\\dexter\\anaconda3\\lib\\site-packages (1.10.1)\n",
      "Requirement already satisfied: beautifulsoup4<5.0.0,>=4.9.1 in c:\\users\\dexter\\anaconda3\\lib\\site-packages (from deep-translator) (4.12.2)\n",
      "Requirement already satisfied: requests<3.0.0,>=2.23.0 in c:\\users\\dexter\\anaconda3\\lib\\site-packages (from deep-translator) (2.29.0)\n",
      "Requirement already satisfied: soupsieve>1.2 in c:\\users\\dexter\\anaconda3\\lib\\site-packages (from beautifulsoup4<5.0.0,>=4.9.1->deep-translator) (2.4)\n",
      "Requirement already satisfied: urllib3<1.27,>=1.21.1 in c:\\users\\dexter\\anaconda3\\lib\\site-packages (from requests<3.0.0,>=2.23.0->deep-translator) (1.26.16)\n",
      "Requirement already satisfied: idna<4,>=2.5 in c:\\users\\dexter\\anaconda3\\lib\\site-packages (from requests<3.0.0,>=2.23.0->deep-translator) (3.4)\n",
      "Requirement already satisfied: certifi>=2017.4.17 in c:\\users\\dexter\\anaconda3\\lib\\site-packages (from requests<3.0.0,>=2.23.0->deep-translator) (2023.7.22)\n",
      "Requirement already satisfied: charset-normalizer<4,>=2 in c:\\users\\dexter\\anaconda3\\lib\\site-packages (from requests<3.0.0,>=2.23.0->deep-translator) (2.0.4)\n"
     ]
    }
   ],
   "source": [
    "#INSTALL DEEP-TRANSLATOR LIBRARY\n",
    "! pip install deep-translator"
   ]
  },
  {
   "cell_type": "code",
   "execution_count": 63,
   "id": "5f99da65",
   "metadata": {},
   "outputs": [
    {
     "data": {
      "text/plain": [
       "0      Gumagamit ka ba ng Facebook, Tiktok or Messeng...\n",
       "1      Salamat sa pag suporta sa casino, gusto  mo ba...\n",
       "2      Mag laro at kumita habang nasa bahay Lang! Win...\n",
       "3      Binabati kita! Bagong kaganapan, mag-log in up...\n",
       "4      I was calling you but the line was busy. Im a ...\n",
       "                             ...                        \n",
       "555    Pinaka murang EMERGENCY LIGHTS sa market ngayo...\n",
       "556    Happy Sunday! Wag na masyado magpaka stress Fo...\n",
       "557    KAREN B., LARO na sa ONLINE GAMING ng WALANG M...\n",
       "558    BUY 2 TAKE 2 TODAY ONLY !! BEAUTIFUL ELEGANT S...\n",
       "559    From USA, My Dear I want to help you as God di...\n",
       "Name: message, Length: 560, dtype: object"
      ]
     },
     "execution_count": 63,
     "metadata": {},
     "output_type": "execute_result"
    }
   ],
   "source": [
    "# STORE THE VALUES OF messages COLUMN INTO A LIST\n",
    "list_filipino = df3.iloc[:, 1]\n",
    "list_filipino"
   ]
  },
  {
   "cell_type": "code",
   "execution_count": 64,
   "id": "8202e5af",
   "metadata": {},
   "outputs": [
    {
     "name": "stdout",
     "output_type": "stream",
     "text": [
      "translated!\n"
     ]
    }
   ],
   "source": [
    "#TO TRANSLATE EACH TEXT AND STORE THEM IN A LIST, list_translated\n",
    "from deep_translator import GoogleTranslator\n",
    "list_translated = []\n",
    "for message in list_filipino:\n",
    "    translated = GoogleTranslator(target='en').translate(message)\n",
    "    list_translated.append(translated)\n",
    "print('translated!')"
   ]
  },
  {
   "cell_type": "code",
   "execution_count": 66,
   "id": "d42aa74d",
   "metadata": {
    "scrolled": true
   },
   "outputs": [
    {
     "data": {
      "text/html": [
       "<div>\n",
       "<style scoped>\n",
       "    .dataframe tbody tr th:only-of-type {\n",
       "        vertical-align: middle;\n",
       "    }\n",
       "\n",
       "    .dataframe tbody tr th {\n",
       "        vertical-align: top;\n",
       "    }\n",
       "\n",
       "    .dataframe thead th {\n",
       "        text-align: right;\n",
       "    }\n",
       "</style>\n",
       "<table border=\"1\" class=\"dataframe\">\n",
       "  <thead>\n",
       "    <tr style=\"text-align: right;\">\n",
       "      <th></th>\n",
       "      <th>tag</th>\n",
       "      <th>message</th>\n",
       "    </tr>\n",
       "  </thead>\n",
       "  <tbody>\n",
       "    <tr>\n",
       "      <th>0</th>\n",
       "      <td>spam</td>\n",
       "      <td>Do you use Facebook, Tiktok or Messenger? Did ...</td>\n",
       "    </tr>\n",
       "    <tr>\n",
       "      <th>1</th>\n",
       "      <td>spam</td>\n",
       "      <td>Thanks for supporting the casino, do you want ...</td>\n",
       "    </tr>\n",
       "    <tr>\n",
       "      <th>2</th>\n",
       "      <td>spam</td>\n",
       "      <td>Play games and earn money while at home! Win e...</td>\n",
       "    </tr>\n",
       "    <tr>\n",
       "      <th>3</th>\n",
       "      <td>spam</td>\n",
       "      <td>Congratulations! New event, log in to receive,...</td>\n",
       "    </tr>\n",
       "    <tr>\n",
       "      <th>4</th>\n",
       "      <td>spam</td>\n",
       "      <td>I was calling you but the line was busy. Im a ...</td>\n",
       "    </tr>\n",
       "  </tbody>\n",
       "</table>\n",
       "</div>"
      ],
      "text/plain": [
       "    tag                                            message\n",
       "0  spam  Do you use Facebook, Tiktok or Messenger? Did ...\n",
       "1  spam  Thanks for supporting the casino, do you want ...\n",
       "2  spam  Play games and earn money while at home! Win e...\n",
       "3  spam  Congratulations! New event, log in to receive,...\n",
       "4  spam  I was calling you but the line was busy. Im a ..."
      ]
     },
     "execution_count": 66,
     "metadata": {},
     "output_type": "execute_result"
    }
   ],
   "source": [
    "# REPLACE message column in df3 with values in list_collection\n",
    "df3.iloc[:, 1] = list_translated\n",
    "df3.head()"
   ]
  },
  {
   "cell_type": "markdown",
   "id": "426f18f3",
   "metadata": {},
   "source": [
    "<h5 style=\"font-family:Georgia; background-color:#ea9f79; color: #135375; padding: 10px;\">Done Cleaning!</h5>"
   ]
  },
  {
   "cell_type": "markdown",
   "id": "1d5a32c6",
   "metadata": {},
   "source": [
    "<h3 style=\"font-family:Georgia; font-size: 16px; background-color:#135375; color: whitesmoke; padding: 10px;\">Merge the dataset</h3>"
   ]
  },
  {
   "cell_type": "code",
   "execution_count": null,
   "id": "edefc972",
   "metadata": {},
   "outputs": [],
   "source": []
  },
  {
   "cell_type": "code",
   "execution_count": null,
   "id": "0a177f48",
   "metadata": {},
   "outputs": [],
   "source": []
  },
  {
   "cell_type": "code",
   "execution_count": null,
   "id": "92cfb6a0",
   "metadata": {},
   "outputs": [],
   "source": []
  },
  {
   "cell_type": "code",
   "execution_count": null,
   "id": "3c2ded19",
   "metadata": {},
   "outputs": [],
   "source": []
  },
  {
   "cell_type": "code",
   "execution_count": null,
   "id": "597612de",
   "metadata": {},
   "outputs": [],
   "source": []
  },
  {
   "cell_type": "code",
   "execution_count": null,
   "id": "1c1f61bd",
   "metadata": {},
   "outputs": [],
   "source": []
  },
  {
   "cell_type": "code",
   "execution_count": null,
   "id": "4a86e836",
   "metadata": {},
   "outputs": [],
   "source": []
  }
 ],
 "metadata": {
  "kernelspec": {
   "display_name": "Python 3 (ipykernel)",
   "language": "python",
   "name": "python3"
  },
  "language_info": {
   "codemirror_mode": {
    "name": "ipython",
    "version": 3
   },
   "file_extension": ".py",
   "mimetype": "text/x-python",
   "name": "python",
   "nbconvert_exporter": "python",
   "pygments_lexer": "ipython3",
   "version": "3.9.16"
  }
 },
 "nbformat": 4,
 "nbformat_minor": 5
}
